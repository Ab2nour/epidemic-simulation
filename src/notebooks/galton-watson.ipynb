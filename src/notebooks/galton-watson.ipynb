{
 "cells": [
  {
   "cell_type": "code",
   "outputs": [],
   "source": [
    "import scipy.stats as stats\n",
    "import seaborn as sns\n",
    "import numpy as np\n",
    "from scipy.stats import rv_discrete\n",
    "import matplotlib.pyplot as plt\n",
    "\n",
    "from src.code.models.galton_watson import GaltonWatson, galton_watson"
   ],
   "metadata": {
    "collapsed": false,
    "ExecuteTime": {
     "end_time": "2024-01-14T14:59:44.402630552Z",
     "start_time": "2024-01-14T14:59:44.358509179Z"
    }
   },
   "id": "4c758366c0e0c1ba",
   "execution_count": 21
  },
  {
   "cell_type": "code",
   "outputs": [],
   "source": [
    "descendants = 1"
   ],
   "metadata": {
    "collapsed": false,
    "ExecuteTime": {
     "end_time": "2024-01-14T14:59:45.310287358Z",
     "start_time": "2024-01-14T14:59:45.304116491Z"
    }
   },
   "id": "65156e9fd44bffb7",
   "execution_count": 22
  },
  {
   "cell_type": "code",
   "outputs": [],
   "source": [
    "poisson_1 = stats.poisson(1)"
   ],
   "metadata": {
    "collapsed": false,
    "ExecuteTime": {
     "end_time": "2024-01-14T14:59:45.558989165Z",
     "start_time": "2024-01-14T14:59:45.553026901Z"
    }
   },
   "id": "fe0991b9336ac065",
   "execution_count": 23
  },
  {
   "cell_type": "code",
   "outputs": [],
   "source": [
    "gp1 = GaltonWatson(poisson_1)"
   ],
   "metadata": {
    "collapsed": false,
    "ExecuteTime": {
     "end_time": "2024-01-14T14:59:48.252843545Z",
     "start_time": "2024-01-14T14:59:48.248396568Z"
    }
   },
   "id": "3d256999321043d0",
   "execution_count": 26
  },
  {
   "cell_type": "code",
   "outputs": [
    {
     "data": {
      "text/plain": "[array([2]), array([2, 1]), array([0, 0, 1]), array([0])]"
     },
     "execution_count": 27,
     "metadata": {},
     "output_type": "execute_result"
    }
   ],
   "source": [
    "gp1.simule(100)\n",
    "gp1.liste_descendants"
   ],
   "metadata": {
    "collapsed": false,
    "ExecuteTime": {
     "end_time": "2024-01-14T14:59:48.541746879Z",
     "start_time": "2024-01-14T14:59:48.537992639Z"
    }
   },
   "id": "4bd9e6067c455eef",
   "execution_count": 27
  },
  {
   "cell_type": "code",
   "outputs": [
    {
     "data": {
      "text/plain": "4"
     },
     "execution_count": 28,
     "metadata": {},
     "output_type": "execute_result"
    }
   ],
   "source": [
    "len(gp1.liste_descendants)"
   ],
   "metadata": {
    "collapsed": false,
    "ExecuteTime": {
     "end_time": "2024-01-14T14:59:49.558970893Z",
     "start_time": "2024-01-14T14:59:49.552277150Z"
    }
   },
   "id": "49b98a2e52df8cc0",
   "execution_count": 28
  },
  {
   "cell_type": "code",
   "outputs": [
    {
     "data": {
      "text/plain": "4"
     },
     "execution_count": 29,
     "metadata": {},
     "output_type": "execute_result"
    }
   ],
   "source": [
    "gp1.n"
   ],
   "metadata": {
    "collapsed": false,
    "ExecuteTime": {
     "end_time": "2024-01-14T14:59:50.158578498Z",
     "start_time": "2024-01-14T14:59:50.153450417Z"
    }
   },
   "id": "53a7851823295ee5",
   "execution_count": 29
  },
  {
   "cell_type": "code",
   "outputs": [],
   "source": [
    "nb_simulations = 10_000\n",
    "nb_epoques = 100\n",
    "\n",
    "simu_poisson_1 = [galton_watson(poisson_1, nb_epoques) for _ in range(nb_simulations)]"
   ],
   "metadata": {
    "collapsed": false,
    "ExecuteTime": {
     "end_time": "2024-01-14T14:59:53.795281938Z",
     "start_time": "2024-01-14T14:59:50.638036967Z"
    }
   },
   "id": "ff2ac213181d4cbd",
   "execution_count": 30
  },
  {
   "cell_type": "code",
   "outputs": [],
   "source": [
    "a = np.array(simu_poisson_1)"
   ],
   "metadata": {
    "collapsed": false,
    "ExecuteTime": {
     "end_time": "2024-01-14T14:59:54.269574857Z",
     "start_time": "2024-01-14T14:59:54.264924227Z"
    }
   },
   "id": "ecfe0771635fe146",
   "execution_count": 31
  },
  {
   "cell_type": "code",
   "outputs": [
    {
     "data": {
      "text/plain": "197"
     },
     "execution_count": 32,
     "metadata": {},
     "output_type": "execute_result"
    }
   ],
   "source": [
    "np.sum(a > 0)"
   ],
   "metadata": {
    "collapsed": false,
    "ExecuteTime": {
     "end_time": "2024-01-14T14:59:54.995907504Z",
     "start_time": "2024-01-14T14:59:54.990758244Z"
    }
   },
   "id": "a14c131068c69a34",
   "execution_count": 32
  },
  {
   "cell_type": "code",
   "outputs": [
    {
     "data": {
      "text/plain": "array([ 24,  79,  22,  57, 116,  99, 272,   3,  27,  21,  50,  37,  20,\n        44,  11,  18,  61,  85, 100,  39, 129,  21,  10,  36,   1,  61,\n        76,  46,   7,   4,  16,   6, 176,  27,   7,  45,  31,  30,  34,\n         3,  56,   8,  51,  39,  12, 103,  70,  13,  44,  50,  64,  16,\n        83,  54,   4,  60,  25, 149,   2, 138,   1,   4,  27,  15,  64,\n         7,  31,   1,  43,   8,  63,  20,   2,  46,  29,  35,  43,  16,\n        15,   4,  23,  24, 115,  75,  46,  19,   7,  11, 100,   6,  76,\n        15,  49,  23,  34,  80,  98,  18,   7, 118,  84,   8,  29,  13,\n         4,  20,  83,  39,  10,  60,   7,  64,  58,  31,   8,  44,  32,\n        65,  63,  82, 119,  22,  80,  35, 124, 121,  85, 114,   2,  54,\n        21,  29,   2, 122,  68, 105,  37, 132,  18,  62,  98,  28,   3,\n        12,  46,  34,  49,  47,  21,  48,  37,  88,  42,   5,   5,  20,\n        69,  61, 106,  30, 141,   6, 105, 149,  21,  35, 111,  21,  99,\n        51,  85,  83,   7,   4,  23, 119, 331,  39,  29,  37,  28,  63,\n        45,  36,  30, 111,  41,  59,  52,   8, 157,  50,  39,   4,  76,\n         4,   2])"
     },
     "execution_count": 33,
     "metadata": {},
     "output_type": "execute_result"
    }
   ],
   "source": [
    "a[a > 0]"
   ],
   "metadata": {
    "collapsed": false,
    "ExecuteTime": {
     "end_time": "2024-01-14T14:59:55.271106116Z",
     "start_time": "2024-01-14T14:59:55.266574410Z"
    }
   },
   "id": "63724505ba1d3ea7",
   "execution_count": 33
  },
  {
   "cell_type": "code",
   "outputs": [
    {
     "data": {
      "text/plain": "(array([88., 59., 23., 19.,  5.,  1.,  0.,  0.,  1.,  1.]),\n array([  1.,  34.,  67., 100., 133., 166., 199., 232., 265., 298., 331.]),\n <BarContainer object of 10 artists>)"
     },
     "execution_count": 34,
     "metadata": {},
     "output_type": "execute_result"
    },
    {
     "data": {
      "text/plain": "<Figure size 640x480 with 1 Axes>",
      "image/png": "[encoded data removed]"
     },
     "metadata": {},
     "output_type": "display_data"
    }
   ],
   "source": [
    "plt.hist(a[a > 0])"
   ],
   "metadata": {
    "collapsed": false,
    "ExecuteTime": {
     "end_time": "2024-01-14T14:59:56.135451270Z",
     "start_time": "2024-01-14T14:59:55.952543573Z"
    }
   },
   "id": "6b03f611e744486a",
   "execution_count": 34
  },
  {
   "cell_type": "code",
   "outputs": [],
   "source": [],
   "metadata": {
    "collapsed": false
   },
   "id": "32be9f7a3840ad9d"
  }
 ],
 "metadata": {
  "kernelspec": {
   "display_name": "Python 3",
   "language": "python",
   "name": "python3"
  },
  "language_info": {
   "codemirror_mode": {
    "name": "ipython",
    "version": 2
   },
   "file_extension": ".py",
   "mimetype": "text/x-python",
   "name": "python",
   "nbconvert_exporter": "python",
   "pygments_lexer": "ipython2",
   "version": "2.7.6"
  }
 },
 "nbformat": 4,
 "nbformat_minor": 5
}
