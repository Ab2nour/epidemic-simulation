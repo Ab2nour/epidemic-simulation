{
 "cells": [
  {
   "cell_type": "markdown",
   "id": "cc04de2c865b50e6",
   "metadata": {},
   "source": [
    "# Utilisation de la classe GaltonWatson"
   ]
  },
  {
   "cell_type": "code",
   "execution_count": null,
   "id": "ed72bb4661e13cbc",
   "metadata": {},
   "outputs": [],
   "source": [
    "import numpy as np\n",
    "import scipy.stats as stats\n",
    "from src.code.models.galton_watson import GaltonWatson"
   ]
  },
  {
   "cell_type": "code",
   "execution_count": null,
   "id": "7fdf00329f8e765b",
   "metadata": {},
   "outputs": [],
   "source": [
    "np.random.seed(0)"
   ]
  },
  {
   "cell_type": "markdown",
   "id": "fae72c4ad2e6374e",
   "metadata": {},
   "source": [
    "## Loi de Poisson"
   ]
  },
  {
   "cell_type": "markdown",
   "id": "cc5bd50e9cab6488",
   "metadata": {},
   "source": [
    "### λ = 1"
   ]
  },
  {
   "cell_type": "markdown",
   "id": "38933929a3ee11ff",
   "metadata": {},
   "source": [
    "Soit $L$ la loi de reproduction.\n",
    "\n",
    "Nous avons $L \\sim {\\mathrm {Poisson}}(1)$."
   ]
  },
  {
   "cell_type": "code",
   "execution_count": null,
   "id": "8daca2ad627a155c",
   "metadata": {},
   "outputs": [],
   "source": [
    "poisson_1 = stats.poisson(1)"
   ]
  },
  {
   "cell_type": "code",
   "execution_count": null,
   "id": "b505cf6115c5ddf9",
   "metadata": {},
   "outputs": [],
   "source": [
    "gp1 = GaltonWatson(poisson_1)"
   ]
  },
  {
   "cell_type": "code",
   "execution_count": null,
   "id": "65cc3c26e2f7e825",
   "metadata": {},
   "outputs": [],
   "source": [
    "nb_survivants = gp1.simule(100)"
   ]
  },
  {
   "cell_type": "code",
   "execution_count": null,
   "id": "85ec8b0fa026fa99",
   "metadata": {},
   "outputs": [
    {
     "name": "stdout",
     "output_type": "stream",
     "text": [
      "Il reste 0 survivants au bout de 10 époques.\n"
     ]
    }
   ],
   "source": [
    "print(f\"Il reste {nb_survivants} survivants au bout de {gp1.n} époques.\")"
   ]
  }
 ],
 "metadata": {
  "kernelspec": {
   "display_name": "python3",
   "language": "python",
   "name": "python3"
  }
 },
 "nbformat": 4,
 "nbformat_minor": 5
}
