{
 "cells": [
  {
   "cell_type": "markdown",
   "source": [
    "# Utilisation de la classe GaltonWatson"
   ],
   "metadata": {
    "collapsed": false
   },
   "id": "cc04de2c865b50e6"
  },
  {
   "cell_type": "code",
   "outputs": [],
   "source": [
    "import numpy as np\n",
    "import scipy.stats as stats\n",
    "\n",
    "from src.code.models.galton_watson import GaltonWatson"
   ],
   "metadata": {
    "collapsed": false,
    "ExecuteTime": {
     "end_time": "2024-01-14T15:32:50.845307610Z",
     "start_time": "2024-01-14T15:32:50.840224228Z"
    }
   },
   "id": "ed72bb4661e13cbc",
   "execution_count": 41
  },
  {
   "cell_type": "code",
   "outputs": [],
   "source": [
    "np.random.seed(0)"
   ],
   "metadata": {
    "collapsed": false,
    "ExecuteTime": {
     "end_time": "2024-01-14T15:32:50.994202946Z",
     "start_time": "2024-01-14T15:32:50.989940749Z"
    }
   },
   "id": "7fdf00329f8e765b",
   "execution_count": 42
  },
  {
   "cell_type": "markdown",
   "source": [
    "## Loi de Poisson"
   ],
   "metadata": {
    "collapsed": false
   },
   "id": "fae72c4ad2e6374e"
  },
  {
   "cell_type": "markdown",
   "source": [
    "### λ = 1"
   ],
   "metadata": {
    "collapsed": false
   },
   "id": "cc5bd50e9cab6488"
  },
  {
   "cell_type": "markdown",
   "source": [
    "Soit $L$ la loi de reproduction.\n",
    "\n",
    "Nous avons $L \\sim {\\mathrm {Poisson}}(1)$."
   ],
   "metadata": {
    "collapsed": false
   },
   "id": "38933929a3ee11ff"
  },
  {
   "cell_type": "code",
   "outputs": [],
   "source": [
    "poisson_1 = stats.poisson(1)"
   ],
   "metadata": {
    "collapsed": false,
    "ExecuteTime": {
     "end_time": "2024-01-14T15:32:51.820239530Z",
     "start_time": "2024-01-14T15:32:51.817209942Z"
    }
   },
   "id": "8daca2ad627a155c",
   "execution_count": 43
  },
  {
   "cell_type": "code",
   "outputs": [],
   "source": [
    "gp1 = GaltonWatson(poisson_1)"
   ],
   "metadata": {
    "collapsed": false,
    "ExecuteTime": {
     "end_time": "2024-01-14T15:32:52.034875390Z",
     "start_time": "2024-01-14T15:32:52.032036039Z"
    }
   },
   "id": "b505cf6115c5ddf9",
   "execution_count": 44
  },
  {
   "cell_type": "code",
   "outputs": [],
   "source": [
    "nb_survivants = gp1.simule(100)"
   ],
   "metadata": {
    "collapsed": false,
    "ExecuteTime": {
     "end_time": "2024-01-14T15:32:54.259230122Z",
     "start_time": "2024-01-14T15:32:54.253641891Z"
    }
   },
   "id": "65cc3c26e2f7e825",
   "execution_count": 47
  },
  {
   "cell_type": "code",
   "outputs": [
    {
     "name": "stdout",
     "output_type": "stream",
     "text": [
      "Il reste 0 survivants au bout de 10 époques.\n"
     ]
    }
   ],
   "source": [
    "print(f\"Il reste {nb_survivants} survivants au bout de {gp1.n} époques.\")"
   ],
   "metadata": {
    "collapsed": false,
    "ExecuteTime": {
     "end_time": "2024-01-14T15:32:54.445467923Z",
     "start_time": "2024-01-14T15:32:54.439827393Z"
    }
   },
   "id": "85ec8b0fa026fa99",
   "execution_count": 48
  }
 ],
 "metadata": {
  "kernelspec": {
   "display_name": "Python 3",
   "language": "python",
   "name": "python3"
  },
  "language_info": {
   "codemirror_mode": {
    "name": "ipython",
    "version": 2
   },
   "file_extension": ".py",
   "mimetype": "text/x-python",
   "name": "python",
   "nbconvert_exporter": "python",
   "pygments_lexer": "ipython2",
   "version": "2.7.6"
  }
 },
 "nbformat": 4,
 "nbformat_minor": 5
}
